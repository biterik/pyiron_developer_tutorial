{
 "cells": [
  {
   "cell_type": "markdown",
   "id": "44343502",
   "metadata": {},
   "source": [
    "# Exercise 3\n",
    "The goal of the third exercise is to put the previous components together and demonstrate a typical usecase for `pyiron_base`."
   ]
  },
  {
   "cell_type": "markdown",
   "id": "050ac9b4",
   "metadata": {},
   "source": [
    "# Create a dynamic job class\n",
    "To interface with any kind of executable we can use the dynamic pyiron job classes."
   ]
  },
  {
   "cell_type": "markdown",
   "id": "703e81e0",
   "metadata": {},
   "source": [
    "Use the `resource_path` from exercise one and select the one which is not included in the your `conda` environment:"
   ]
  },
  {
   "cell_type": "code",
   "execution_count": 1,
   "id": "0d3e6c5e",
   "metadata": {},
   "outputs": [
    {
     "data": {
      "text/plain": [
       "'/Users/jan/pyiron/resources'"
      ]
     },
     "execution_count": 1,
     "metadata": {},
     "output_type": "execute_result"
    }
   ],
   "source": [
    "from pyiron_base import state\n",
    "resource_path_selected = [p for p in state.settings.resource_paths if \"conda\" not in p][0]\n",
    "resource_path_selected"
   ]
  },
  {
   "cell_type": "markdown",
   "id": "a43a35c0",
   "metadata": {},
   "source": [
    "Create the directory `dynamic/MydynamicJob/bin` in your `resource_path_selected` if it does not exist already:"
   ]
  },
  {
   "cell_type": "code",
   "execution_count": 2,
   "id": "7ee78b1c",
   "metadata": {},
   "outputs": [],
   "source": [
    "import os\n",
    "os.makedirs(os.path.join(resource_path_selected, \"dynamic\", \"MydynamicJob\", \"bin\"), exist_ok=True)"
   ]
  },
  {
   "cell_type": "markdown",
   "id": "6958f752",
   "metadata": {},
   "source": [
    "In these directories we now create the following files:\n",
    "* `dynamic/MydynamicJob/input.json` - default input \n",
    "* `dynamic/MydynamicJob/script.py` - the `write_input()` and `collect_output()` function to interface with files\n",
    "* `dynamic/MydynamicJob/bin/run_mydynamicjob_0.0.1.sh` - the shell script to run"
   ]
  },
  {
   "cell_type": "code",
   "execution_count": 3,
   "id": "48111e02",
   "metadata": {},
   "outputs": [],
   "source": [
    "input_str = \"\"\"{\"a\": 1, \"b\": [1, 2, 3]}\"\"\"\n",
    "script_str = \"\"\"\\\n",
    "import json\n",
    "import os\n",
    "\n",
    "\n",
    "def write_input(working_directory, input_dict):\n",
    "    # json example\n",
    "    with open(os.path.join(working_directory, \"input.txt\"), \"w\") as f:\n",
    "        json.dump(input_dict, f)\n",
    "\n",
    "\n",
    "def collect_output(working_directory):\n",
    "    # json example\n",
    "    with open(os.path.join(working_directory, \"output.txt\"), \"r\") as f:\n",
    "        return json.load(f)\n",
    "\"\"\"\n",
    "run_str = \"\"\"\\\n",
    "#!/bin/bash\n",
    "number_of_cores=1\n",
    "number_of_threads=1\n",
    "\n",
    "cat input.txt > output.txt\n",
    "\"\"\""
   ]
  },
  {
   "cell_type": "code",
   "execution_count": 4,
   "id": "949dbaa2",
   "metadata": {},
   "outputs": [],
   "source": [
    "file_name_lst = [\n",
    "    os.path.join(resource_path_selected, \"dynamic\", \"MydynamicJob\", \"input.json\"),\n",
    "    os.path.join(resource_path_selected, \"dynamic\", \"MydynamicJob\", \"script.py\"), \n",
    "    os.path.join(resource_path_selected, \"dynamic\", \"MydynamicJob\", \"bin\", \"run_mydynamicjob_0.0.1.sh\"),\n",
    "]"
   ]
  },
  {
   "cell_type": "code",
   "execution_count": 5,
   "id": "8792a725",
   "metadata": {},
   "outputs": [],
   "source": [
    "for f, s in zip(file_name_lst, [input_str, script_str, run_str]):\n",
    "    with open(f, \"w\") as fo:\n",
    "        fo.writelines(s)"
   ]
  },
  {
   "cell_type": "markdown",
   "id": "48021201",
   "metadata": {},
   "source": [
    "Set the executable bit for the shell script:"
   ]
  },
  {
   "cell_type": "code",
   "execution_count": 6,
   "id": "31461b4b",
   "metadata": {},
   "outputs": [
    {
     "data": {
      "text/plain": [
       "b''"
      ]
     },
     "execution_count": 6,
     "metadata": {},
     "output_type": "execute_result"
    }
   ],
   "source": [
    "import subprocess\n",
    "subprocess.check_output(\n",
    "    [\"chmod\", \"+x\", os.path.join(resource_path_selected, \"dynamic\", \"MydynamicJob\", \"bin\", \"run_mydynamicjob_0.0.1.sh\")]\n",
    ")"
   ]
  },
  {
   "cell_type": "markdown",
   "id": "98c693cd",
   "metadata": {},
   "source": [
    "# Parameter Study\n",
    "Use the worker class to execute multiple jobs in one allocation. Start by creating a test project:"
   ]
  },
  {
   "cell_type": "code",
   "execution_count": 7,
   "id": "a7ddaafc",
   "metadata": {},
   "outputs": [
    {
     "data": {
      "application/vnd.jupyter.widget-view+json": {
       "model_id": "6cc9a790c3804883813a7e74cbedc155",
       "version_major": 2,
       "version_minor": 0
      },
      "text/plain": [
       "  0%|          | 0/11 [00:00<?, ?it/s]"
      ]
     },
     "metadata": {},
     "output_type": "display_data"
    }
   ],
   "source": [
    "from pyiron_base import Project\n",
    "pr = Project(\"test\")\n",
    "pr.remove_jobs(recursive=True, silently=True)"
   ]
  },
  {
   "cell_type": "markdown",
   "id": "c7e5301f",
   "metadata": {},
   "source": [
    "Submit a series of jobs to the worker:"
   ]
  },
  {
   "cell_type": "code",
   "execution_count": 8,
   "id": "88ba534f",
   "metadata": {},
   "outputs": [
    {
     "name": "stdout",
     "output_type": "stream",
     "text": [
      "The job job_0 was saved and received the ID: 250\n",
      "The job job_1 was saved and received the ID: 251\n",
      "The job job_2 was saved and received the ID: 252\n",
      "The job job_3 was saved and received the ID: 253\n",
      "The job job_4 was saved and received the ID: 254\n",
      "The job job_5 was saved and received the ID: 255\n",
      "The job job_6 was saved and received the ID: 256\n",
      "The job job_7 was saved and received the ID: 257\n",
      "The job job_8 was saved and received the ID: 258\n",
      "The job job_9 was saved and received the ID: 259\n"
     ]
    }
   ],
   "source": [
    "for i in range(10):\n",
    "    job = pr.create.job.MydynamicJob(\"job_\" + str(i))\n",
    "    job.run()"
   ]
  },
  {
   "cell_type": "code",
   "execution_count": 9,
   "id": "de8592e9",
   "metadata": {},
   "outputs": [
    {
     "data": {
      "text/html": [
       "<div>\n",
       "<style scoped>\n",
       "    .dataframe tbody tr th:only-of-type {\n",
       "        vertical-align: middle;\n",
       "    }\n",
       "\n",
       "    .dataframe tbody tr th {\n",
       "        vertical-align: top;\n",
       "    }\n",
       "\n",
       "    .dataframe thead th {\n",
       "        text-align: right;\n",
       "    }\n",
       "</style>\n",
       "<table border=\"1\" class=\"dataframe\">\n",
       "  <thead>\n",
       "    <tr style=\"text-align: right;\">\n",
       "      <th></th>\n",
       "      <th>id</th>\n",
       "      <th>status</th>\n",
       "      <th>chemicalformula</th>\n",
       "      <th>job</th>\n",
       "      <th>subjob</th>\n",
       "      <th>projectpath</th>\n",
       "      <th>project</th>\n",
       "      <th>timestart</th>\n",
       "      <th>timestop</th>\n",
       "      <th>totalcputime</th>\n",
       "      <th>computer</th>\n",
       "      <th>hamilton</th>\n",
       "      <th>hamversion</th>\n",
       "      <th>parentid</th>\n",
       "      <th>masterid</th>\n",
       "    </tr>\n",
       "  </thead>\n",
       "  <tbody>\n",
       "    <tr>\n",
       "      <th>0</th>\n",
       "      <td>250</td>\n",
       "      <td>finished</td>\n",
       "      <td>None</td>\n",
       "      <td>job_0</td>\n",
       "      <td>/job_0</td>\n",
       "      <td>/Users/jan/pyiron/projects/</td>\n",
       "      <td>2022/2022-07-25-learn-pyiron-dev/test/</td>\n",
       "      <td>2022-07-26 00:32:27.935299</td>\n",
       "      <td>2022-07-26 00:32:27.989066</td>\n",
       "      <td>0.0</td>\n",
       "      <td>pyiron@MacMini.local#1</td>\n",
       "      <td>MydynamicJob</td>\n",
       "      <td>0.4</td>\n",
       "      <td>None</td>\n",
       "      <td>None</td>\n",
       "    </tr>\n",
       "    <tr>\n",
       "      <th>1</th>\n",
       "      <td>251</td>\n",
       "      <td>finished</td>\n",
       "      <td>None</td>\n",
       "      <td>job_1</td>\n",
       "      <td>/job_1</td>\n",
       "      <td>/Users/jan/pyiron/projects/</td>\n",
       "      <td>2022/2022-07-25-learn-pyiron-dev/test/</td>\n",
       "      <td>2022-07-26 00:32:28.030352</td>\n",
       "      <td>2022-07-26 00:32:28.075152</td>\n",
       "      <td>0.0</td>\n",
       "      <td>pyiron@MacMini.local#1</td>\n",
       "      <td>MydynamicJob</td>\n",
       "      <td>0.4</td>\n",
       "      <td>None</td>\n",
       "      <td>None</td>\n",
       "    </tr>\n",
       "    <tr>\n",
       "      <th>2</th>\n",
       "      <td>252</td>\n",
       "      <td>finished</td>\n",
       "      <td>None</td>\n",
       "      <td>job_2</td>\n",
       "      <td>/job_2</td>\n",
       "      <td>/Users/jan/pyiron/projects/</td>\n",
       "      <td>2022/2022-07-25-learn-pyiron-dev/test/</td>\n",
       "      <td>2022-07-26 00:32:28.119732</td>\n",
       "      <td>2022-07-26 00:32:28.168639</td>\n",
       "      <td>0.0</td>\n",
       "      <td>pyiron@MacMini.local#1</td>\n",
       "      <td>MydynamicJob</td>\n",
       "      <td>0.4</td>\n",
       "      <td>None</td>\n",
       "      <td>None</td>\n",
       "    </tr>\n",
       "    <tr>\n",
       "      <th>3</th>\n",
       "      <td>253</td>\n",
       "      <td>finished</td>\n",
       "      <td>None</td>\n",
       "      <td>job_3</td>\n",
       "      <td>/job_3</td>\n",
       "      <td>/Users/jan/pyiron/projects/</td>\n",
       "      <td>2022/2022-07-25-learn-pyiron-dev/test/</td>\n",
       "      <td>2022-07-26 00:32:28.210627</td>\n",
       "      <td>2022-07-26 00:32:28.255237</td>\n",
       "      <td>0.0</td>\n",
       "      <td>pyiron@MacMini.local#1</td>\n",
       "      <td>MydynamicJob</td>\n",
       "      <td>0.4</td>\n",
       "      <td>None</td>\n",
       "      <td>None</td>\n",
       "    </tr>\n",
       "    <tr>\n",
       "      <th>4</th>\n",
       "      <td>254</td>\n",
       "      <td>finished</td>\n",
       "      <td>None</td>\n",
       "      <td>job_4</td>\n",
       "      <td>/job_4</td>\n",
       "      <td>/Users/jan/pyiron/projects/</td>\n",
       "      <td>2022/2022-07-25-learn-pyiron-dev/test/</td>\n",
       "      <td>2022-07-26 00:32:28.300826</td>\n",
       "      <td>2022-07-26 00:32:28.351460</td>\n",
       "      <td>0.0</td>\n",
       "      <td>pyiron@MacMini.local#1</td>\n",
       "      <td>MydynamicJob</td>\n",
       "      <td>0.4</td>\n",
       "      <td>None</td>\n",
       "      <td>None</td>\n",
       "    </tr>\n",
       "    <tr>\n",
       "      <th>5</th>\n",
       "      <td>255</td>\n",
       "      <td>finished</td>\n",
       "      <td>None</td>\n",
       "      <td>job_5</td>\n",
       "      <td>/job_5</td>\n",
       "      <td>/Users/jan/pyiron/projects/</td>\n",
       "      <td>2022/2022-07-25-learn-pyiron-dev/test/</td>\n",
       "      <td>2022-07-26 00:32:28.394252</td>\n",
       "      <td>2022-07-26 00:32:28.440785</td>\n",
       "      <td>0.0</td>\n",
       "      <td>pyiron@MacMini.local#1</td>\n",
       "      <td>MydynamicJob</td>\n",
       "      <td>0.4</td>\n",
       "      <td>None</td>\n",
       "      <td>None</td>\n",
       "    </tr>\n",
       "    <tr>\n",
       "      <th>6</th>\n",
       "      <td>256</td>\n",
       "      <td>finished</td>\n",
       "      <td>None</td>\n",
       "      <td>job_6</td>\n",
       "      <td>/job_6</td>\n",
       "      <td>/Users/jan/pyiron/projects/</td>\n",
       "      <td>2022/2022-07-25-learn-pyiron-dev/test/</td>\n",
       "      <td>2022-07-26 00:32:28.482334</td>\n",
       "      <td>2022-07-26 00:32:28.529003</td>\n",
       "      <td>0.0</td>\n",
       "      <td>pyiron@MacMini.local#1</td>\n",
       "      <td>MydynamicJob</td>\n",
       "      <td>0.4</td>\n",
       "      <td>None</td>\n",
       "      <td>None</td>\n",
       "    </tr>\n",
       "    <tr>\n",
       "      <th>7</th>\n",
       "      <td>257</td>\n",
       "      <td>finished</td>\n",
       "      <td>None</td>\n",
       "      <td>job_7</td>\n",
       "      <td>/job_7</td>\n",
       "      <td>/Users/jan/pyiron/projects/</td>\n",
       "      <td>2022/2022-07-25-learn-pyiron-dev/test/</td>\n",
       "      <td>2022-07-26 00:32:28.572227</td>\n",
       "      <td>2022-07-26 00:32:28.618655</td>\n",
       "      <td>0.0</td>\n",
       "      <td>pyiron@MacMini.local#1</td>\n",
       "      <td>MydynamicJob</td>\n",
       "      <td>0.4</td>\n",
       "      <td>None</td>\n",
       "      <td>None</td>\n",
       "    </tr>\n",
       "    <tr>\n",
       "      <th>8</th>\n",
       "      <td>258</td>\n",
       "      <td>finished</td>\n",
       "      <td>None</td>\n",
       "      <td>job_8</td>\n",
       "      <td>/job_8</td>\n",
       "      <td>/Users/jan/pyiron/projects/</td>\n",
       "      <td>2022/2022-07-25-learn-pyiron-dev/test/</td>\n",
       "      <td>2022-07-26 00:32:28.662857</td>\n",
       "      <td>2022-07-26 00:32:28.709481</td>\n",
       "      <td>0.0</td>\n",
       "      <td>pyiron@MacMini.local#1</td>\n",
       "      <td>MydynamicJob</td>\n",
       "      <td>0.4</td>\n",
       "      <td>None</td>\n",
       "      <td>None</td>\n",
       "    </tr>\n",
       "    <tr>\n",
       "      <th>9</th>\n",
       "      <td>259</td>\n",
       "      <td>finished</td>\n",
       "      <td>None</td>\n",
       "      <td>job_9</td>\n",
       "      <td>/job_9</td>\n",
       "      <td>/Users/jan/pyiron/projects/</td>\n",
       "      <td>2022/2022-07-25-learn-pyiron-dev/test/</td>\n",
       "      <td>2022-07-26 00:32:28.751206</td>\n",
       "      <td>2022-07-26 00:32:28.798043</td>\n",
       "      <td>0.0</td>\n",
       "      <td>pyiron@MacMini.local#1</td>\n",
       "      <td>MydynamicJob</td>\n",
       "      <td>0.4</td>\n",
       "      <td>None</td>\n",
       "      <td>None</td>\n",
       "    </tr>\n",
       "  </tbody>\n",
       "</table>\n",
       "</div>"
      ],
      "text/plain": [
       "    id    status chemicalformula    job  subjob                  projectpath  \\\n",
       "0  250  finished            None  job_0  /job_0  /Users/jan/pyiron/projects/   \n",
       "1  251  finished            None  job_1  /job_1  /Users/jan/pyiron/projects/   \n",
       "2  252  finished            None  job_2  /job_2  /Users/jan/pyiron/projects/   \n",
       "3  253  finished            None  job_3  /job_3  /Users/jan/pyiron/projects/   \n",
       "4  254  finished            None  job_4  /job_4  /Users/jan/pyiron/projects/   \n",
       "5  255  finished            None  job_5  /job_5  /Users/jan/pyiron/projects/   \n",
       "6  256  finished            None  job_6  /job_6  /Users/jan/pyiron/projects/   \n",
       "7  257  finished            None  job_7  /job_7  /Users/jan/pyiron/projects/   \n",
       "8  258  finished            None  job_8  /job_8  /Users/jan/pyiron/projects/   \n",
       "9  259  finished            None  job_9  /job_9  /Users/jan/pyiron/projects/   \n",
       "\n",
       "                                  project                  timestart  \\\n",
       "0  2022/2022-07-25-learn-pyiron-dev/test/ 2022-07-26 00:32:27.935299   \n",
       "1  2022/2022-07-25-learn-pyiron-dev/test/ 2022-07-26 00:32:28.030352   \n",
       "2  2022/2022-07-25-learn-pyiron-dev/test/ 2022-07-26 00:32:28.119732   \n",
       "3  2022/2022-07-25-learn-pyiron-dev/test/ 2022-07-26 00:32:28.210627   \n",
       "4  2022/2022-07-25-learn-pyiron-dev/test/ 2022-07-26 00:32:28.300826   \n",
       "5  2022/2022-07-25-learn-pyiron-dev/test/ 2022-07-26 00:32:28.394252   \n",
       "6  2022/2022-07-25-learn-pyiron-dev/test/ 2022-07-26 00:32:28.482334   \n",
       "7  2022/2022-07-25-learn-pyiron-dev/test/ 2022-07-26 00:32:28.572227   \n",
       "8  2022/2022-07-25-learn-pyiron-dev/test/ 2022-07-26 00:32:28.662857   \n",
       "9  2022/2022-07-25-learn-pyiron-dev/test/ 2022-07-26 00:32:28.751206   \n",
       "\n",
       "                    timestop  totalcputime                computer  \\\n",
       "0 2022-07-26 00:32:27.989066           0.0  pyiron@MacMini.local#1   \n",
       "1 2022-07-26 00:32:28.075152           0.0  pyiron@MacMini.local#1   \n",
       "2 2022-07-26 00:32:28.168639           0.0  pyiron@MacMini.local#1   \n",
       "3 2022-07-26 00:32:28.255237           0.0  pyiron@MacMini.local#1   \n",
       "4 2022-07-26 00:32:28.351460           0.0  pyiron@MacMini.local#1   \n",
       "5 2022-07-26 00:32:28.440785           0.0  pyiron@MacMini.local#1   \n",
       "6 2022-07-26 00:32:28.529003           0.0  pyiron@MacMini.local#1   \n",
       "7 2022-07-26 00:32:28.618655           0.0  pyiron@MacMini.local#1   \n",
       "8 2022-07-26 00:32:28.709481           0.0  pyiron@MacMini.local#1   \n",
       "9 2022-07-26 00:32:28.798043           0.0  pyiron@MacMini.local#1   \n",
       "\n",
       "       hamilton hamversion parentid masterid  \n",
       "0  MydynamicJob        0.4     None     None  \n",
       "1  MydynamicJob        0.4     None     None  \n",
       "2  MydynamicJob        0.4     None     None  \n",
       "3  MydynamicJob        0.4     None     None  \n",
       "4  MydynamicJob        0.4     None     None  \n",
       "5  MydynamicJob        0.4     None     None  \n",
       "6  MydynamicJob        0.4     None     None  \n",
       "7  MydynamicJob        0.4     None     None  \n",
       "8  MydynamicJob        0.4     None     None  \n",
       "9  MydynamicJob        0.4     None     None  "
      ]
     },
     "execution_count": 9,
     "metadata": {},
     "output_type": "execute_result"
    }
   ],
   "source": [
    "pr.job_table()"
   ]
  },
  {
   "cell_type": "markdown",
   "id": "c2307525",
   "metadata": {},
   "source": [
    "# collect data with pyiron_table\n",
    "Define two functions to collect both entries of both the input and the output:"
   ]
  },
  {
   "cell_type": "code",
   "execution_count": 10,
   "id": "a98d820b",
   "metadata": {},
   "outputs": [],
   "source": [
    "def get_a_in(job):\n",
    "    return job[\"storage\"][\"input\"][\"a\"]"
   ]
  },
  {
   "cell_type": "code",
   "execution_count": 11,
   "id": "52b8b45a",
   "metadata": {},
   "outputs": [],
   "source": [
    "def get_a_out(job):\n",
    "    return job[\"storage\"][\"output\"][\"a\"]"
   ]
  },
  {
   "cell_type": "code",
   "execution_count": 12,
   "id": "9873488e",
   "metadata": {},
   "outputs": [],
   "source": [
    "def get_b_in(job):\n",
    "    return job[\"storage\"][\"input\"][\"b\"]"
   ]
  },
  {
   "cell_type": "code",
   "execution_count": 13,
   "id": "86c1708f",
   "metadata": {},
   "outputs": [],
   "source": [
    "def get_b_out(job):\n",
    "    return job[\"storage\"][\"output\"][\"b\"]"
   ]
  },
  {
   "cell_type": "markdown",
   "id": "a4065e76",
   "metadata": {},
   "source": [
    "Create a `pyiron_table` object to iterate over all jobs in the project:"
   ]
  },
  {
   "cell_type": "code",
   "execution_count": 14,
   "id": "0d789984",
   "metadata": {},
   "outputs": [
    {
     "name": "stdout",
     "output_type": "stream",
     "text": [
      "The job table was saved and received the ID: 260\n"
     ]
    },
    {
     "data": {
      "application/vnd.jupyter.widget-view+json": {
       "model_id": "23d630df9b8c4b20aea4e10f708d09cc",
       "version_major": 2,
       "version_minor": 0
      },
      "text/plain": [
       "Loading and filtering jobs:   0%|          | 0/11 [00:00<?, ?it/s]"
      ]
     },
     "metadata": {},
     "output_type": "display_data"
    },
    {
     "data": {
      "application/vnd.jupyter.widget-view+json": {
       "model_id": "e1de4f3c69e84ccda96a7a31b533b8c0",
       "version_major": 2,
       "version_minor": 0
      },
      "text/plain": [
       "Processing jobs:   0%|          | 0/10 [00:00<?, ?it/s]"
      ]
     },
     "metadata": {},
     "output_type": "display_data"
    },
    {
     "name": "stderr",
     "output_type": "stream",
     "text": [
      "/Users/jan/PycharmProjects/pyiron_base/pyiron_base/jobs/datamining.py:620: PerformanceWarning: \n",
      "your performance may suffer as PyTables will pickle object types that it cannot\n",
      "map directly to c-types [inferred_type->mixed,key->block1_values] [items->Index(['bin', 'bout'], dtype='object')]\n",
      "\n",
      "  self.pyiron_table._df.to_hdf(\n"
     ]
    }
   ],
   "source": [
    "table = pr.create.table()\n",
    "table.add[\"ain\"] = get_a_in\n",
    "table.add[\"bin\"] = get_b_in\n",
    "table.add[\"aout\"] = get_a_out\n",
    "table.add[\"bout\"] = get_b_out\n",
    "table.run()"
   ]
  },
  {
   "cell_type": "markdown",
   "id": "1847cab0",
   "metadata": {},
   "source": [
    "Return the output as pandas dataframe:"
   ]
  },
  {
   "cell_type": "code",
   "execution_count": 15,
   "id": "b1dc17bf",
   "metadata": {},
   "outputs": [
    {
     "data": {
      "text/html": [
       "<div>\n",
       "<style scoped>\n",
       "    .dataframe tbody tr th:only-of-type {\n",
       "        vertical-align: middle;\n",
       "    }\n",
       "\n",
       "    .dataframe tbody tr th {\n",
       "        vertical-align: top;\n",
       "    }\n",
       "\n",
       "    .dataframe thead th {\n",
       "        text-align: right;\n",
       "    }\n",
       "</style>\n",
       "<table border=\"1\" class=\"dataframe\">\n",
       "  <thead>\n",
       "    <tr style=\"text-align: right;\">\n",
       "      <th></th>\n",
       "      <th>job_id</th>\n",
       "      <th>ain</th>\n",
       "      <th>bin</th>\n",
       "      <th>aout</th>\n",
       "      <th>bout</th>\n",
       "    </tr>\n",
       "  </thead>\n",
       "  <tbody>\n",
       "    <tr>\n",
       "      <th>0</th>\n",
       "      <td>250</td>\n",
       "      <td>1</td>\n",
       "      <td>[1, 2, 3]</td>\n",
       "      <td>1</td>\n",
       "      <td>[1, 2, 3]</td>\n",
       "    </tr>\n",
       "    <tr>\n",
       "      <th>1</th>\n",
       "      <td>251</td>\n",
       "      <td>1</td>\n",
       "      <td>[1, 2, 3]</td>\n",
       "      <td>1</td>\n",
       "      <td>[1, 2, 3]</td>\n",
       "    </tr>\n",
       "    <tr>\n",
       "      <th>2</th>\n",
       "      <td>252</td>\n",
       "      <td>1</td>\n",
       "      <td>[1, 2, 3]</td>\n",
       "      <td>1</td>\n",
       "      <td>[1, 2, 3]</td>\n",
       "    </tr>\n",
       "    <tr>\n",
       "      <th>3</th>\n",
       "      <td>253</td>\n",
       "      <td>1</td>\n",
       "      <td>[1, 2, 3]</td>\n",
       "      <td>1</td>\n",
       "      <td>[1, 2, 3]</td>\n",
       "    </tr>\n",
       "    <tr>\n",
       "      <th>4</th>\n",
       "      <td>254</td>\n",
       "      <td>1</td>\n",
       "      <td>[1, 2, 3]</td>\n",
       "      <td>1</td>\n",
       "      <td>[1, 2, 3]</td>\n",
       "    </tr>\n",
       "    <tr>\n",
       "      <th>5</th>\n",
       "      <td>255</td>\n",
       "      <td>1</td>\n",
       "      <td>[1, 2, 3]</td>\n",
       "      <td>1</td>\n",
       "      <td>[1, 2, 3]</td>\n",
       "    </tr>\n",
       "    <tr>\n",
       "      <th>6</th>\n",
       "      <td>256</td>\n",
       "      <td>1</td>\n",
       "      <td>[1, 2, 3]</td>\n",
       "      <td>1</td>\n",
       "      <td>[1, 2, 3]</td>\n",
       "    </tr>\n",
       "    <tr>\n",
       "      <th>7</th>\n",
       "      <td>257</td>\n",
       "      <td>1</td>\n",
       "      <td>[1, 2, 3]</td>\n",
       "      <td>1</td>\n",
       "      <td>[1, 2, 3]</td>\n",
       "    </tr>\n",
       "    <tr>\n",
       "      <th>8</th>\n",
       "      <td>258</td>\n",
       "      <td>1</td>\n",
       "      <td>[1, 2, 3]</td>\n",
       "      <td>1</td>\n",
       "      <td>[1, 2, 3]</td>\n",
       "    </tr>\n",
       "    <tr>\n",
       "      <th>9</th>\n",
       "      <td>259</td>\n",
       "      <td>1</td>\n",
       "      <td>[1, 2, 3]</td>\n",
       "      <td>1</td>\n",
       "      <td>[1, 2, 3]</td>\n",
       "    </tr>\n",
       "  </tbody>\n",
       "</table>\n",
       "</div>"
      ],
      "text/plain": [
       "   job_id  ain        bin  aout       bout\n",
       "0     250    1  [1, 2, 3]     1  [1, 2, 3]\n",
       "1     251    1  [1, 2, 3]     1  [1, 2, 3]\n",
       "2     252    1  [1, 2, 3]     1  [1, 2, 3]\n",
       "3     253    1  [1, 2, 3]     1  [1, 2, 3]\n",
       "4     254    1  [1, 2, 3]     1  [1, 2, 3]\n",
       "5     255    1  [1, 2, 3]     1  [1, 2, 3]\n",
       "6     256    1  [1, 2, 3]     1  [1, 2, 3]\n",
       "7     257    1  [1, 2, 3]     1  [1, 2, 3]\n",
       "8     258    1  [1, 2, 3]     1  [1, 2, 3]\n",
       "9     259    1  [1, 2, 3]     1  [1, 2, 3]"
      ]
     },
     "execution_count": 15,
     "metadata": {},
     "output_type": "execute_result"
    }
   ],
   "source": [
    "table.get_dataframe()"
   ]
  },
  {
   "cell_type": "markdown",
   "id": "b138e1cb",
   "metadata": {},
   "source": [
    "# Task\n",
    "Update the shell script by replacing the line:\n",
    "`cat input.txt > output.txt`\n",
    "with the line: \n",
    "```\n",
    "echo \\\"import json\\nwith open('input.txt') as f:\\n    i = json.load(f)\\ni['a'] = i['a'] ** 2\\nwith open('output.txt', 'w') as f:\\n    json.dump(i, f)\\\" | python \n",
    "```\n",
    "to calculate the squares of the input."
   ]
  },
  {
   "cell_type": "code",
   "execution_count": null,
   "id": "4b1b17ed",
   "metadata": {},
   "outputs": [],
   "source": []
  }
 ],
 "metadata": {
  "kernelspec": {
   "display_name": "Python 3 (ipykernel)",
   "language": "python",
   "name": "python3"
  },
  "language_info": {
   "codemirror_mode": {
    "name": "ipython",
    "version": 3
   },
   "file_extension": ".py",
   "mimetype": "text/x-python",
   "name": "python",
   "nbconvert_exporter": "python",
   "pygments_lexer": "ipython3",
   "version": "3.10.5"
  }
 },
 "nbformat": 4,
 "nbformat_minor": 5
}
