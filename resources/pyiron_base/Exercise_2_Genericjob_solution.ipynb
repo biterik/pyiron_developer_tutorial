{
 "cells": [
  {
   "cell_type": "markdown",
   "id": "b719ab03",
   "metadata": {},
   "source": [
    "# Exercise 2 \n",
    "The goal of the second exercise is to learn more about the `GenericJob` class and in particular how a job is executed inside pyiron when the user calls the `run()` function."
   ]
  },
  {
   "cell_type": "markdown",
   "id": "a0b9ae4d",
   "metadata": {},
   "source": [
    "# Toyjob"
   ]
  },
  {
   "cell_type": "markdown",
   "id": "37a7473a",
   "metadata": {},
   "source": [
    "As a first step we define a `ToyJob` class which has to be modified in the following steps to understand more about the functionality of the run function:"
   ]
  },
  {
   "cell_type": "code",
   "execution_count": 1,
   "id": "858612f4",
   "metadata": {},
   "outputs": [],
   "source": [
    "from os.path import join\n",
    "from pyiron_base import TemplateJob"
   ]
  },
  {
   "cell_type": "code",
   "execution_count": 2,
   "id": "7bde8cc3",
   "metadata": {},
   "outputs": [],
   "source": [
    "class ToyJob(TemplateJob):\n",
    "    def __init__(self, project, job_name):\n",
    "        super().__init__(project, job_name)\n",
    "        # The input consists of just a single value \n",
    "        self.input['input_energy'] = 100\n",
    "        # The content of the input file is copied to the output file\n",
    "        self.executable = \"cat input > output\"\n",
    "\n",
    "    def write_input(self):\n",
    "        # The input is written to the input file\n",
    "        file = join(self.working_directory, \"input\") \n",
    "        with open(file, \"w\") as f:\n",
    "            line = f.writelines(\n",
    "                str(self.input['input_energy'])\n",
    "            )\n",
    "\n",
    "    def collect_output(self):\n",
    "        # The output file is read\n",
    "        file = join(self.working_directory, \"output\") \n",
    "        with open(file) as f:\n",
    "            line = f.readlines()\n",
    "        # the output is parsed to get the copied energy\n",
    "        energy = float(line[0])\n",
    "        # the energy is stored in the HDF5 file \n",
    "        with self.project_hdf5.open(\"output/generic\") as h5out: \n",
    "            h5out[\"energy_tot\"] = energy"
   ]
  },
  {
   "cell_type": "markdown",
   "id": "730b2c50",
   "metadata": {},
   "source": [
    "This simple class can be executed with pyiron using the following lines: "
   ]
  },
  {
   "cell_type": "code",
   "execution_count": 3,
   "id": "8a7d025d",
   "metadata": {},
   "outputs": [
    {
     "data": {
      "application/vnd.jupyter.widget-view+json": {
       "model_id": "1f5da3c05601429cb7e3d075c6078806",
       "version_major": 2,
       "version_minor": 0
      },
      "text/plain": [
       "  0%|          | 0/1 [00:00<?, ?it/s]"
      ]
     },
     "metadata": {},
     "output_type": "display_data"
    },
    {
     "name": "stdout",
     "output_type": "stream",
     "text": [
      "The job toy was saved and received the ID: toy\n"
     ]
    },
    {
     "data": {
      "text/plain": [
       "'finished'"
      ]
     },
     "execution_count": 3,
     "metadata": {},
     "output_type": "execute_result"
    }
   ],
   "source": [
    "from pyiron_base import Project\n",
    "pr = Project('test')\n",
    "pr.remove_jobs(recursive=True, silently=True)  # Delete all jobs in this project \n",
    "job = pr.create_job(job_type=ToyJob, job_name=\"toy\")\n",
    "job.run()\n",
    "job.status"
   ]
  },
  {
   "cell_type": "markdown",
   "id": "40bb5f12",
   "metadata": {},
   "source": [
    "For simplicity we define a function to execute the job in the next cells: "
   ]
  },
  {
   "cell_type": "code",
   "execution_count": 4,
   "id": "df0bb692",
   "metadata": {},
   "outputs": [],
   "source": [
    "def test_job_run(pr, job_type):\n",
    "    pr.remove_jobs(recursive=True, silently=True) \n",
    "    job = pr.create_job(job_type=job_type, job_name=\"toy\")\n",
    "    job.run()\n",
    "    return job.status"
   ]
  },
  {
   "cell_type": "markdown",
   "id": "38fa1b73",
   "metadata": {},
   "source": [
    "#### Task 1: \n",
    "Test the `test_job_run()` function, implemented above, by setting the arguments for the project `pr` and the `job_type`:"
   ]
  },
  {
   "cell_type": "code",
   "execution_count": 5,
   "id": "b0c7932b",
   "metadata": {},
   "outputs": [
    {
     "data": {
      "application/vnd.jupyter.widget-view+json": {
       "model_id": "b3f563fff59b4aa4bbe993399fa4f5d9",
       "version_major": 2,
       "version_minor": 0
      },
      "text/plain": [
       "  0%|          | 0/1 [00:00<?, ?it/s]"
      ]
     },
     "metadata": {},
     "output_type": "display_data"
    },
    {
     "name": "stdout",
     "output_type": "stream",
     "text": [
      "The job toy was saved and received the ID: toy\n"
     ]
    },
    {
     "data": {
      "text/plain": [
       "'finished'"
      ]
     },
     "execution_count": 5,
     "metadata": {},
     "output_type": "execute_result"
    }
   ],
   "source": [
    "test_job_run(pr=pr, job_type=ToyJob)"
   ]
  },
  {
   "cell_type": "markdown",
   "id": "0bf7ac09",
   "metadata": {},
   "source": [
    "# The run() function\n",
    "To better understand how the `run()` function works, please take a look at the source code inside Pycharm again. For this example we use the `super()` call to access the definition of the same function in the class the `ToyJob` is derived from, in this case `GenericJob`:"
   ]
  },
  {
   "cell_type": "code",
   "execution_count": 6,
   "id": "a783c1be",
   "metadata": {},
   "outputs": [],
   "source": [
    "class ToyJobVerbose(TemplateJob):\n",
    "    def __init__(self, project, job_name):\n",
    "        super().__init__(project, job_name)\n",
    "        self.input['input_energy'] = 100\n",
    "        self.executable = \"cat input > output\"\n",
    "\n",
    "    def write_input(self):\n",
    "        file = join(self.working_directory, \"input\") \n",
    "        with open(file, \"w\") as f:\n",
    "            line = f.writelines(\n",
    "                str(self.input['input_energy'])\n",
    "            )\n",
    "\n",
    "    def collect_output(self):\n",
    "        file = join(self.working_directory, \"output\") \n",
    "        with open(file) as f:\n",
    "            line = f.readlines()\n",
    "        energy = float(line[0])\n",
    "        with self.project_hdf5.open(\"output/generic\") as h5out: \n",
    "            h5out[\"energy_tot\"] = energy\n",
    "    \n",
    "    def _run_if_new(self, debug=False):\n",
    "        print(\"status: \", self.status)\n",
    "        super()._run_if_new(debug=debug)\n",
    "    \n",
    "    def _run_if_created(self):\n",
    "        print(\"status: \", self.status)\n",
    "        super()._run_if_created()\n",
    "        \n",
    "    def _run_if_collect(self):\n",
    "        print(\"status: \", self.status)\n",
    "        super()._run_if_collect()"
   ]
  },
  {
   "cell_type": "markdown",
   "id": "ddbaea22",
   "metadata": {},
   "source": [
    "#### Task 2: \n",
    "Add the line `print(\"status: \", self.status)` to each of the `run_if_x()` functions to identify in which order they are called when `run()` is called:"
   ]
  },
  {
   "cell_type": "code",
   "execution_count": 7,
   "id": "76f5e02e",
   "metadata": {},
   "outputs": [
    {
     "data": {
      "application/vnd.jupyter.widget-view+json": {
       "model_id": "28fff73a174a471398ebd121df0d35db",
       "version_major": 2,
       "version_minor": 0
      },
      "text/plain": [
       "  0%|          | 0/1 [00:00<?, ?it/s]"
      ]
     },
     "metadata": {},
     "output_type": "display_data"
    },
    {
     "name": "stdout",
     "output_type": "stream",
     "text": [
      "status:  initialized\n",
      "The job toy was saved and received the ID: toy\n",
      "status:  created\n",
      "status:  collect\n"
     ]
    },
    {
     "data": {
      "text/plain": [
       "'finished'"
      ]
     },
     "execution_count": 7,
     "metadata": {},
     "output_type": "execute_result"
    }
   ],
   "source": [
    "test_job_run(pr=pr, job_type=ToyJobVerbose)"
   ]
  },
  {
   "cell_type": "markdown",
   "id": "1611c522",
   "metadata": {},
   "source": [
    "# The to_hdf() and from_hdf() functions \n",
    "One of the core features of pyiron is that the data is stored automatically without the user calling `to_hdf()` or `from_hdf()`. Still as a developer this might be a bit confusing from time to time. "
   ]
  },
  {
   "cell_type": "code",
   "execution_count": 8,
   "id": "bcb706ea",
   "metadata": {},
   "outputs": [],
   "source": [
    "class ToyJobStorage(TemplateJob):\n",
    "    def __init__(self, project, job_name):\n",
    "        super().__init__(project, job_name)\n",
    "        self.input['input_energy'] = 100\n",
    "        self.executable = \"cat input > output\"\n",
    "\n",
    "    def write_input(self):\n",
    "        file = join(self.working_directory, \"input\") \n",
    "        with open(file, \"w\") as f:\n",
    "            line = f.writelines(\n",
    "                str(self.input['input_energy'])\n",
    "            )\n",
    "\n",
    "    def collect_output(self):\n",
    "        file = join(self.working_directory, \"output\") \n",
    "        with open(file) as f:\n",
    "            line = f.readlines()\n",
    "        energy = float(line[0])\n",
    "        with self.project_hdf5.open(\"output/generic\") as h5out: \n",
    "            h5out[\"energy_tot\"] = energy\n",
    "    \n",
    "    def _run_if_new(self, debug=False):\n",
    "        print(\"status: \", self.status)\n",
    "        super()._run_if_new(debug=debug)\n",
    "    \n",
    "    def _run_if_created(self):\n",
    "        print(\"status: \", self.status)\n",
    "        super()._run_if_created()\n",
    "        \n",
    "    def _run_if_collect(self):\n",
    "        print(\"status: \", self.status)\n",
    "        super()._run_if_collect()\n",
    "        \n",
    "    def to_hdf(self, hdf=None, group_name=None):\n",
    "        print(\"to_hdf\")\n",
    "        super().to_hdf(hdf=hdf, group_name=group_name)\n",
    "        \n",
    "    def from_hdf(self, hdf=None, group_name=None):\n",
    "        print(\"from_hdf\")\n",
    "        super().from_hdf(hdf=hdf, group_name=group_name)"
   ]
  },
  {
   "cell_type": "markdown",
   "id": "b5d6ca15",
   "metadata": {},
   "source": [
    "#### Task 3 a: \n",
    "Look up the parameters for the `to_hdf()` and `from_hdf()` function, either using the `?` on `job.to_hdf?` and `job.from_hdf?` or by browsing the relevant code with Pycharm."
   ]
  },
  {
   "cell_type": "markdown",
   "id": "12c92e4a",
   "metadata": {},
   "source": [
    "#### Task 3 b: \n",
    "Add the `to_hdf()` and `from_hdf()` function to the `ToyJobStorage` class again with a `super()` call and a print function to identify when `to_hdf()` and `from_hdf()` are called during the execution of `run()`."
   ]
  },
  {
   "cell_type": "code",
   "execution_count": 9,
   "id": "4745a358",
   "metadata": {},
   "outputs": [
    {
     "data": {
      "application/vnd.jupyter.widget-view+json": {
       "model_id": "170f69d9a0484fb08f59f4f52a930352",
       "version_major": 2,
       "version_minor": 0
      },
      "text/plain": [
       "  0%|          | 0/1 [00:00<?, ?it/s]"
      ]
     },
     "metadata": {},
     "output_type": "display_data"
    },
    {
     "name": "stdout",
     "output_type": "stream",
     "text": [
      "status:  initialized\n",
      "to_hdf\n",
      "The job toy was saved and received the ID: toy\n",
      "status:  created\n",
      "status:  collect\n"
     ]
    },
    {
     "data": {
      "text/plain": [
       "'finished'"
      ]
     },
     "execution_count": 9,
     "metadata": {},
     "output_type": "execute_result"
    }
   ],
   "source": [
    "test_job_run(pr=pr, job_type=ToyJobStorage)"
   ]
  }
 ],
 "metadata": {
  "kernelspec": {
   "display_name": "Python 3 (ipykernel)",
   "language": "python",
   "name": "python3"
  },
  "language_info": {
   "codemirror_mode": {
    "name": "ipython",
    "version": 3
   },
   "file_extension": ".py",
   "mimetype": "text/x-python",
   "name": "python",
   "nbconvert_exporter": "python",
   "pygments_lexer": "ipython3",
   "version": "3.10.5"
  }
 },
 "nbformat": 4,
 "nbformat_minor": 5
}
