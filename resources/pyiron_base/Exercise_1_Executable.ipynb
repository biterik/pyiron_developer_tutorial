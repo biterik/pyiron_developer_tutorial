{
 "cells": [
  {
   "cell_type": "markdown",
   "id": "81736c28",
   "metadata": {},
   "source": [
    "# Exercise 1\n",
    "The goal of this exercise is to learn more about the `Executable` class. It is used inside pyiron to access the shell scripts in the resources. "
   ]
  },
  {
   "cell_type": "markdown",
   "id": "f8a7b122",
   "metadata": {},
   "source": [
    "## Resource Path\n",
    "The `state` object is a global reference to the inner components of `pyiron_base`, which are:\n",
    "* database - the SQL database to store the job objects\n",
    "* logger - for debugging information\n",
    "* publications - for storing the references to the dependencies used inside pyiron\n",
    "* queue_adapter - interface with the queuing system \n",
    "* settings - which parses your `.pyiron` configuration file, which containes your project path an resources path\n",
    "* update - a utility to update your pyiron installation"
   ]
  },
  {
   "cell_type": "code",
   "execution_count": null,
   "id": "daa889bd",
   "metadata": {},
   "outputs": [],
   "source": [
    "from pyiron_base import state"
   ]
  },
  {
   "cell_type": "code",
   "execution_count": null,
   "id": "7afc6dcb",
   "metadata": {},
   "outputs": [],
   "source": [
    "dir(state)"
   ]
  },
  {
   "cell_type": "markdown",
   "id": "36c14e34",
   "metadata": {},
   "source": [
    "#### Task 1:\n",
    "Use the `dir()` function to find the file system path to the resources, inside the `state` object or one of it is subobjects, like `settings`. "
   ]
  },
  {
   "cell_type": "code",
   "execution_count": null,
   "id": "d932a36b",
   "metadata": {},
   "outputs": [],
   "source": [
    "state.settings"
   ]
  },
  {
   "cell_type": "markdown",
   "id": "944e9d1e",
   "metadata": {},
   "source": [
    "The typical output would look like this: \n",
    "```\n",
    "['/Users/jan/pyiron/resources',\n",
    " '/Users/jan/miniforge3/share/pyiron',\n",
    " '/Users/jan/miniforge3/share/pyiron']\n",
    "```"
   ]
  },
  {
   "cell_type": "markdown",
   "id": "87749b1a",
   "metadata": {},
   "source": [
    "# Executable \n",
    "To learn more about the executable class we can use the build in documentation, which is accessible using `?` after the class name: "
   ]
  },
  {
   "cell_type": "code",
   "execution_count": null,
   "id": "07fe42b4",
   "metadata": {},
   "outputs": [],
   "source": [
    "from pyiron_base import Executable"
   ]
  },
  {
   "cell_type": "raw",
   "id": "ac89144e",
   "metadata": {},
   "source": [
    "Executable?\n",
    "\n",
    "> Executable(\n",
    ">     path_binary_codes=None,\n",
    ">     codename=None,\n",
    ">     module=None,\n",
    ">     code=None,\n",
    ">     overwrite_nt_flag=False,\n",
    "> )"
   ]
  },
  {
   "cell_type": "markdown",
   "id": "0364bc48",
   "metadata": {},
   "source": [
    "Unfortunatley this documentation is not very intuitive and it takes some time, to figure out how to get the executable for a simulation code. Let's take the simulation code Lammps for example, you can retrieve the executable for LAMMPS by setting the string `\"lammps\"` for two of the five parameters, while keeping the other variables at their default values. Feel free to try it! "
   ]
  },
  {
   "cell_type": "markdown",
   "id": "590beaaa",
   "metadata": {},
   "source": [
    "#### Task 2:"
   ]
  },
  {
   "cell_type": "code",
   "execution_count": null,
   "id": "9feed2a3",
   "metadata": {},
   "outputs": [],
   "source": [
    "Executable(\n",
    "    path_binary_codes=None, \n",
    "    codename=None, \n",
    "    module=None, \n",
    "    code=None, \n",
    "    overwrite_nt_flag=False\n",
    ")"
   ]
  },
  {
   "cell_type": "raw",
   "id": "9783ba51",
   "metadata": {},
   "source": [
    "> '/Users/jan/miniforge3/share/pyiron/lammps/bin/run_lammps_2020.03.03.sh'"
   ]
  },
  {
   "cell_type": "markdown",
   "id": "f30a0455",
   "metadata": {},
   "source": [
    "**Explanation/ Disclaimer**: The executable class was one of the first classes I (Jan) rewrote when I started working on pyiron back in 2015 and it worked more or less seamlessly since then, but a code which is only extended for seven years, might have arguments which are no longer used. So it can be very helpful to identify these cases, report them and ideally fix them. "
   ]
  },
  {
   "cell_type": "markdown",
   "id": "2ce17b7f",
   "metadata": {},
   "source": [
    "# Implementation"
   ]
  },
  {
   "cell_type": "markdown",
   "id": "2f77ffd8",
   "metadata": {},
   "source": [
    "An alternative way to learn more about the usage of the `Executable` class would be to search the `GenericJob` class and see how it is used there. It is recommended to use Pycharm to search for the usage of the `Executable` class. "
   ]
  },
  {
   "cell_type": "markdown",
   "id": "567156c2",
   "metadata": {},
   "source": [
    "#### Task 3: \n",
    "Use Pycharm to find the usage of the Executable class in the GenericJob class."
   ]
  },
  {
   "cell_type": "markdown",
   "id": "d39259c0",
   "metadata": {},
   "source": [
    "You should find that primarly the `_executable_activate()` function is initializing the `Executable` class and it is typically called without any additional argument. For consistency I create a simple `WorkerJob` below and use the ``??`` command to display the source code of the `_executable_activate()` function."
   ]
  },
  {
   "cell_type": "raw",
   "id": "709b53c1",
   "metadata": {},
   "source": [
    "from pyiron_base import Project\n",
    "pr = Project(\".\")\n",
    "job = pr.create.job.WorkerJob(job_name=\"test\")\n",
    "job._executable_activate??\n",
    "\n",
    "> def _executable_activate(self, enforce=False, codename=None):\n",
    ">     \"\"\"\n",
    ">     Internal helper function to koad the executable object, if it was not loaded already.\n",
    "> \n",
    ">     Args:\n",
    ">         enforce (bool): Force the executable module to reinitialize\n",
    ">         codename (str): Name of the resource directory and run script.\n",
    ">     \"\"\"\n",
    ">     if self._executable is None or enforce:\n",
    ">         if codename is not None:\n",
    ">             self._executable = Executable(\n",
    ">                 codename=codename,\n",
    ">                 module=codename,\n",
    ">                 path_binary_codes=None,\n",
    ">             )\n",
    ">         elif len(self.__module__.split(\".\")) > 1:\n",
    ">             self._executable = Executable(\n",
    ">                 codename=self.__name__,\n",
    ">                 module=self.__module__.split(\".\")[-2],\n",
    ">                 path_binary_codes=None,\n",
    ">             )\n",
    ">         elif self.__module__ == \"__main__\":\n",
    ">             # Special case when the job classes defined in Jupyter notebooks\n",
    ">             parent_class = self.__class__.__bases__[0]\n",
    ">             self._executable = Executable(\n",
    ">                 codename=parent_class.__name__,\n",
    ">                 module=parent_class.__module__.split(\".\")[-2],\n",
    ">                 path_binary_codes=None,\n",
    ">             )\n",
    ">         else:\n",
    ">             self._executable = Executable(\n",
    ">                 codename=self.__name__,\n",
    ">                 path_binary_codes=None,\n",
    ">             )"
   ]
  },
  {
   "cell_type": "markdown",
   "id": "b41785b7",
   "metadata": {},
   "source": [
    "As the default argument for `codename` is `None` the first if-statement is false. You can then validate the second condition and find that it is fulfilled. So the arguments the `Executable` class needs by default are `codename` and `module` as you hopefully figured out above already. "
   ]
  },
  {
   "cell_type": "markdown",
   "id": "cae1749b",
   "metadata": {},
   "source": [
    "# Summary\n",
    "In this exercise you learned the following: \n",
    "* Any code which is developed for multiple years has very likely open ends which are no longer used. So if you identify one of these please report them by opening an issue on Github. \n",
    "* You can access the documentation using `?` and the source code of any python function or class using `??`. \n",
    "* The `Executable` class is connecting pyiron with the shell scripts which are then used to execute the simulation code. "
   ]
  },
  {
   "cell_type": "code",
   "execution_count": null,
   "id": "436ae0a7",
   "metadata": {},
   "outputs": [],
   "source": []
  }
 ],
 "metadata": {
  "kernelspec": {
   "display_name": "Python 3 (ipykernel)",
   "language": "python",
   "name": "python3"
  },
  "language_info": {
   "codemirror_mode": {
    "name": "ipython",
    "version": 3
   },
   "file_extension": ".py",
   "mimetype": "text/x-python",
   "name": "python",
   "nbconvert_exporter": "python",
   "pygments_lexer": "ipython3",
   "version": "3.10.5"
  }
 },
 "nbformat": 4,
 "nbformat_minor": 5
}
