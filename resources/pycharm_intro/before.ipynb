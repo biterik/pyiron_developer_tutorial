{
 "cells": [
  {
   "cell_type": "code",
   "execution_count": 1,
   "id": "20c223ca-7763-4b67-ba94-cc922fa0b9ba",
   "metadata": {},
   "outputs": [],
   "source": [
    "from pyiron_atomistics import Project"
   ]
  },
  {
   "cell_type": "code",
   "execution_count": 2,
   "id": "92d3027d-abdf-421c-8c51-00450cebdb64",
   "metadata": {},
   "outputs": [
    {
     "data": {
      "application/vnd.jupyter.widget-view+json": {
       "model_id": "9f2cec24ec6f4b16a48bc74ed8edb9ab",
       "version_major": 2,
       "version_minor": 0
      },
      "text/plain": [
       "  0%|          | 0/4 [00:00<?, ?it/s]"
      ]
     },
     "metadata": {},
     "output_type": "display_data"
    }
   ],
   "source": [
    "pr = Project('my_dev_stuff')\n",
    "pr.remove_jobs(silently=True, recursive=True)"
   ]
  },
  {
   "cell_type": "code",
   "execution_count": 3,
   "id": "8ac3da18-81a9-4106-a08e-dde99ea8aa44",
   "metadata": {},
   "outputs": [],
   "source": [
    "structure = pr.atomistics.structure.bulk('Fe').repeat(4)\n",
    "structure[0] = 'Cr'\n",
    "structure[1] = 'Co'"
   ]
  },
  {
   "cell_type": "code",
   "execution_count": 11,
   "id": "61a33ca4-8220-46d8-b9a9-bc445016b123",
   "metadata": {},
   "outputs": [
    {
     "data": {
      "text/plain": [
       "\u001b[0;31mSignature:\u001b[0m\n",
       "\u001b[0mstructure\u001b[0m\u001b[0;34m.\u001b[0m\u001b[0mget_potential_energy\u001b[0m\u001b[0;34m(\u001b[0m\u001b[0;34m\u001b[0m\n",
       "\u001b[0;34m\u001b[0m    \u001b[0mforce_consistent\u001b[0m\u001b[0;34m=\u001b[0m\u001b[0;32mFalse\u001b[0m\u001b[0;34m,\u001b[0m\u001b[0;34m\u001b[0m\n",
       "\u001b[0;34m\u001b[0m    \u001b[0mapply_constraint\u001b[0m\u001b[0;34m=\u001b[0m\u001b[0;32mTrue\u001b[0m\u001b[0;34m,\u001b[0m\u001b[0;34m\u001b[0m\n",
       "\u001b[0;34m\u001b[0m\u001b[0;34m)\u001b[0m\u001b[0;34m\u001b[0m\u001b[0;34m\u001b[0m\u001b[0m\n",
       "\u001b[0;31mDocstring:\u001b[0m\n",
       "Calculate potential energy.\n",
       "\n",
       "Ask the attached calculator to calculate the potential energy and\n",
       "apply constraints.  Use *apply_constraint=False* to get the raw\n",
       "forces.\n",
       "\n",
       "When supported by the calculator, either the energy extrapolated\n",
       "to zero Kelvin or the energy consistent with the forces (the free\n",
       "energy) can be returned.\n",
       "\u001b[0;31mFile:\u001b[0m      ~/anaconda3/envs/pyiron_38/lib/python3.8/site-packages/ase/atoms.py\n",
       "\u001b[0;31mType:\u001b[0m      method\n"
      ]
     },
     "metadata": {},
     "output_type": "display_data"
    }
   ],
   "source": [
    "structure."
   ]
  },
  {
   "cell_type": "code",
   "execution_count": 4,
   "id": "6d3b3aea-3ee1-4103-b52b-dfc1aea2ba00",
   "metadata": {},
   "outputs": [],
   "source": [
    "base_job = pr.atomistics.job.Lammps('ref')\n",
    "base_job.structure = structure.copy()\n",
    "base_job.potential = base_job.list_potentials()[0]\n",
    "base_job.calc_minimize()"
   ]
  },
  {
   "cell_type": "code",
   "execution_count": 5,
   "id": "00cd3d4d-4ea1-43b2-9d91-c27b0d3bb91b",
   "metadata": {},
   "outputs": [
    {
     "name": "stdout",
     "output_type": "stream",
     "text": [
      "The job xy was saved and received the ID: 166\n"
     ]
    }
   ],
   "source": [
    "xy_job = base_job.copy_to(new_job_name='xy')\n",
    "xy_job.run()\n",
    "E_xy = xy_job.output.energy_pot[-1]"
   ]
  },
  {
   "cell_type": "code",
   "execution_count": 6,
   "id": "aef7a957-ac2e-4ba6-b48c-ba49564e63b0",
   "metadata": {},
   "outputs": [
    {
     "name": "stdout",
     "output_type": "stream",
     "text": [
      "The job x was saved and received the ID: 167\n"
     ]
    }
   ],
   "source": [
    "x_job = base_job.copy_to(new_job_name='x')\n",
    "x_job.structure[1] = 'Fe'\n",
    "x_job.run()\n",
    "E_x = x_job.output.energy_pot[-1]"
   ]
  },
  {
   "cell_type": "code",
   "execution_count": 7,
   "id": "147434b8-2db5-46a1-af49-232ebc6a826c",
   "metadata": {},
   "outputs": [
    {
     "name": "stdout",
     "output_type": "stream",
     "text": [
      "The job y was saved and received the ID: 168\n"
     ]
    }
   ],
   "source": [
    "y_job = base_job.copy_to(new_job_name='y')\n",
    "y_job.structure[0] = 'Fe'\n",
    "y_job.run()\n",
    "E_y = y_job.output.energy_pot[-1]"
   ]
  },
  {
   "cell_type": "code",
   "execution_count": 8,
   "id": "6c3d85c9-2ad4-4a52-9c10-4f4ae40d4955",
   "metadata": {},
   "outputs": [
    {
     "name": "stdout",
     "output_type": "stream",
     "text": [
      "The job bulk was saved and received the ID: 169\n"
     ]
    }
   ],
   "source": [
    "bulk_job = base_job.copy_to(new_job_name='bulk')\n",
    "bulk_job.structure[[0,1]] = 'Fe'\n",
    "bulk_job.run()\n",
    "E_bulk = bulk_job.output.energy_pot[-1]"
   ]
  },
  {
   "cell_type": "code",
   "execution_count": 9,
   "id": "fe9705e0-b20c-4592-9068-1ffa691b356b",
   "metadata": {},
   "outputs": [],
   "source": [
    "E_bind = (E_xy + E_bulk) - (E_x + E_y)"
   ]
  },
  {
   "cell_type": "code",
   "execution_count": 10,
   "id": "24938cf8-964e-427a-87e1-7ef8911d45a9",
   "metadata": {},
   "outputs": [
    {
     "data": {
      "text/plain": [
       "0.03351011349991495"
      ]
     },
     "execution_count": 10,
     "metadata": {},
     "output_type": "execute_result"
    }
   ],
   "source": [
    "E_bind"
   ]
  },
  {
   "cell_type": "code",
   "execution_count": null,
   "id": "1c8e648b-6c20-4cc1-a5a8-3e097146461b",
   "metadata": {},
   "outputs": [],
   "source": []
  }
 ],
 "metadata": {
  "kernelspec": {
   "display_name": "Python 3",
   "language": "python",
   "name": "python3"
  },
  "language_info": {
   "codemirror_mode": {
    "name": "ipython",
    "version": 3
   },
   "file_extension": ".py",
   "mimetype": "text/x-python",
   "name": "python",
   "nbconvert_exporter": "python",
   "pygments_lexer": "ipython3",
   "version": "3.8.8"
  }
 },
 "nbformat": 4,
 "nbformat_minor": 5
}
