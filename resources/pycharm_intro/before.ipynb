{
 "cells": [
  {
   "cell_type": "code",
   "execution_count": 1,
   "id": "20c223ca-7763-4b67-ba94-cc922fa0b9ba",
   "metadata": {},
   "outputs": [],
   "source": [
    "from pyiron_atomistics import Project"
   ]
  },
  {
   "cell_type": "code",
   "execution_count": 2,
   "id": "92d3027d-abdf-421c-8c51-00450cebdb64",
   "metadata": {},
   "outputs": [],
   "source": [
    "pr = Project('my_dev_stuff')\n",
    "pr.remove_jobs(silently=True, recursive=True)"
   ]
  },
  {
   "cell_type": "code",
   "execution_count": 3,
   "id": "8ac3da18-81a9-4106-a08e-dde99ea8aa44",
   "metadata": {},
   "outputs": [],
   "source": [
    "# Input\n",
    "host = 'Fe'\n",
    "x = 'Cr'\n",
    "y = 'Co'\n",
    "n = 3"
   ]
  },
  {
   "cell_type": "code",
   "execution_count": 4,
   "id": "c712167f-6e19-4e0f-b74f-360ab5464208",
   "metadata": {},
   "outputs": [],
   "source": [
    "# Build base structure\n",
    "structure = pr.atomistics.structure.bulk(host).repeat(n)\n",
    "structure[0] = x\n",
    "structure[1] = y"
   ]
  },
  {
   "cell_type": "code",
   "execution_count": 5,
   "id": "53dd0024-1cce-4abc-b000-ca708deeb8c8",
   "metadata": {},
   "outputs": [],
   "source": [
    "# Get a potential\n",
    "job = pr.atomistics.job.Lammps('dummy')\n",
    "job.structure = structure\n",
    "potential = job.list_potentials()[0]"
   ]
  },
  {
   "cell_type": "code",
   "execution_count": 6,
   "id": "00cd3d4d-4ea1-43b2-9d91-c27b0d3bb91b",
   "metadata": {},
   "outputs": [],
   "source": [
    "def XY_energy(project, name, XY_structure, potential, host):\n",
    "    job = project.atomistics.job.Lammps(name)\n",
    "    job.structure = structure.copy()\n",
    "    job.potential = potential\n",
    "    job.calc_minimize()\n",
    "    job.run()\n",
    "    return job.output.energy_pot[-1]"
   ]
  },
  {
   "cell_type": "code",
   "execution_count": 7,
   "id": "dda64be8-3f20-48af-a8f9-9495bbf2ffab",
   "metadata": {},
   "outputs": [],
   "source": [
    "def X_energy(project, name, XY_structure, potential, host):\n",
    "    job = project.atomistics.job.Lammps(name)\n",
    "    job.structure = XY_structure.copy()\n",
    "    job.structure[1] = host  # Now X structure\n",
    "    job.potential = potential\n",
    "    job.calc_minimize()\n",
    "    job.run()\n",
    "    return job.output.energy_pot[-1]"
   ]
  },
  {
   "cell_type": "code",
   "execution_count": 8,
   "id": "001dc75c-5f7f-410f-9305-755572d118ac",
   "metadata": {},
   "outputs": [],
   "source": [
    "def Y_energy(project, name, XY_structure, potential, host):\n",
    "    job = project.atomistics.job.Lammps(name)\n",
    "    job.structure = XY_structure.copy()\n",
    "    job.structure[0] = host  # Now Y structure\n",
    "    job.potential = potential\n",
    "    job.calc_minimize()\n",
    "    job.run()\n",
    "    return job.output.energy_pot[-1]"
   ]
  },
  {
   "cell_type": "code",
   "execution_count": 9,
   "id": "0acd5c5b-34e6-4a0d-bc67-17789ebc9950",
   "metadata": {},
   "outputs": [],
   "source": [
    "def bulk_energy(project, name, XY_structure, potential, host):\n",
    "    job = project.atomistics.job.Lammps(name)\n",
    "    job.structure = XY_structure.copy()\n",
    "    job.structure[0] = host\n",
    "    job.structure[1] = host  # Now bulk structure\n",
    "    job.potential = potential\n",
    "    job.calc_minimize()\n",
    "    job.run()\n",
    "    return job.output.energy_pot[-1]"
   ]
  },
  {
   "cell_type": "code",
   "execution_count": 10,
   "id": "3360a26f-a82b-4f97-8c19-f7608ae48ffd",
   "metadata": {},
   "outputs": [
    {
     "name": "stdout",
     "output_type": "stream",
     "text": [
      "The job xy was saved and received the ID: 166\n",
      "The job x was saved and received the ID: 167\n",
      "The job y was saved and received the ID: 168\n",
      "The job bulk was saved and received the ID: 169\n"
     ]
    }
   ],
   "source": [
    "E_xy = XY_energy(pr, 'xy', structure, potential, host)\n",
    "E_x = X_energy(pr, 'x', structure, potential, host)\n",
    "E_y = Y_energy(pr, 'y', structure, potential, host)\n",
    "E_bulk = bulk_energy(pr, 'bulk', structure, potential, host)"
   ]
  },
  {
   "cell_type": "code",
   "execution_count": 11,
   "id": "fe9705e0-b20c-4592-9068-1ffa691b356b",
   "metadata": {},
   "outputs": [
    {
     "name": "stdout",
     "output_type": "stream",
     "text": [
      "0.0336 eV\n"
     ]
    }
   ],
   "source": [
    "E_bind = (E_xy + E_bulk) - (E_x + E_y)\n",
    "print(f\"{E_bind:.4f} eV\")"
   ]
  }
 ],
 "metadata": {
  "kernelspec": {
   "display_name": "Python 3",
   "language": "python",
   "name": "python3"
  },
  "language_info": {
   "codemirror_mode": {
    "name": "ipython",
    "version": 3
   },
   "file_extension": ".py",
   "mimetype": "text/x-python",
   "name": "python",
   "nbconvert_exporter": "python",
   "pygments_lexer": "ipython3",
   "version": "3.8.8"
  }
 },
 "nbformat": 4,
 "nbformat_minor": 5
}
