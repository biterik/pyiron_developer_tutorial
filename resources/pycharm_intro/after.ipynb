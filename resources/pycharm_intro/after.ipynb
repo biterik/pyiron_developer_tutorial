{
 "cells": [
  {
   "cell_type": "code",
   "execution_count": 1,
   "id": "20c223ca-7763-4b67-ba94-cc922fa0b9ba",
   "metadata": {},
   "outputs": [],
   "source": [
    "from pyiron_atomistics import Project\n",
    "from after import binding_energy"
   ]
  },
  {
   "cell_type": "code",
   "execution_count": 2,
   "id": "92d3027d-abdf-421c-8c51-00450cebdb64",
   "metadata": {},
   "outputs": [
    {
     "data": {
      "application/vnd.jupyter.widget-view+json": {
       "model_id": "86d1200ba08643ef88e28e8f659d7334",
       "version_major": 2,
       "version_minor": 0
      },
      "text/plain": [
       "  0%|          | 0/4 [00:00<?, ?it/s]"
      ]
     },
     "metadata": {},
     "output_type": "display_data"
    }
   ],
   "source": [
    "pr = Project('my_dev_stuff')\n",
    "pr.remove_jobs(silently=True, recursive=True)"
   ]
  },
  {
   "cell_type": "code",
   "execution_count": 3,
   "id": "8ac3da18-81a9-4106-a08e-dde99ea8aa44",
   "metadata": {},
   "outputs": [],
   "source": [
    "# Input\n",
    "host = 'Fe'\n",
    "x = 'Cr'\n",
    "y = 'Co'\n",
    "n = 3"
   ]
  },
  {
   "cell_type": "code",
   "execution_count": 4,
   "id": "c712167f-6e19-4e0f-b74f-360ab5464208",
   "metadata": {},
   "outputs": [],
   "source": [
    "# Build base structure\n",
    "structure = pr.atomistics.structure.bulk(host).repeat(n)\n",
    "structure[0] = x\n",
    "structure[1] = y"
   ]
  },
  {
   "cell_type": "code",
   "execution_count": 5,
   "id": "53dd0024-1cce-4abc-b000-ca708deeb8c8",
   "metadata": {},
   "outputs": [],
   "source": [
    "# Get a potential\n",
    "job = pr.atomistics.job.Lammps('dummy')\n",
    "job.structure = structure\n",
    "potential = job.list_potentials()[0]"
   ]
  },
  {
   "cell_type": "code",
   "execution_count": 7,
   "id": "fe9705e0-b20c-4592-9068-1ffa691b356b",
   "metadata": {},
   "outputs": [
    {
     "name": "stdout",
     "output_type": "stream",
     "text": [
      "The job FeCrCo3bindxy was saved and received the ID: 166\n",
      "The job FeCrCo3bindx was saved and received the ID: 167\n",
      "The job FeCrCo3bindy was saved and received the ID: 168\n",
      "The job FeCrCo3bindbulk was saved and received the ID: 169\n",
      "0.0336 eV\n"
     ]
    }
   ],
   "source": [
    "E_bind = binding_energy(pr, f\"{host}{x}{y}{n}bind_\", structure, potential, host)\n",
    "print(f\"{E_bind:.4f} eV\")"
   ]
  },
  {
   "cell_type": "code",
   "execution_count": null,
   "id": "a624b47d-2f5e-4ce3-acb3-f50ca3397a1b",
   "metadata": {},
   "outputs": [],
   "source": []
  }
 ],
 "metadata": {
  "kernelspec": {
   "display_name": "Python 3",
   "language": "python",
   "name": "python3"
  },
  "language_info": {
   "codemirror_mode": {
    "name": "ipython",
    "version": 3
   },
   "file_extension": ".py",
   "mimetype": "text/x-python",
   "name": "python",
   "nbconvert_exporter": "python",
   "pygments_lexer": "ipython3",
   "version": "3.8.8"
  }
 },
 "nbformat": 4,
 "nbformat_minor": 5
}
